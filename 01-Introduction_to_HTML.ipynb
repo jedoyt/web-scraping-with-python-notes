{
 "cells": [
  {
   "cell_type": "markdown",
   "metadata": {},
   "source": [
    "# Crash Course in XPath"
   ]
  },
  {
   "cell_type": "markdown",
   "metadata": {},
   "source": [
    "## Where am I?\n",
    "\n",
    "In this exercise, you will navigate to a specific element using your new knowledge of XPath notation.\n",
    "\n",
    "Consider the HTML code:"
   ]
  },
  {
   "cell_type": "raw",
   "metadata": {},
   "source": [
    "<html>\n",
    "  <body>\n",
    "    <div>\n",
    "      <p>Good Luck!</p>\n",
    "      <p>Not here...</p>\n",
    "    </div>\n",
    "    <div>\n",
    "      <p>Where am I?</p>\n",
    "    </div>\n",
    "  </body>\n",
    "</html>"
   ]
  },
  {
   "cell_type": "markdown",
   "metadata": {},
   "source": [
    "Your job will be to create an XPath string using only **single forward-slashes** which navigates to the paragraph `p` element which contains the text \"Where am I?\".\n",
    "## Instructions:\n",
    "- Using only single forward-slashes to move between generations, assign a string to the variable `xpath` that directs to the paragraph element containing \"Where am I?\". Do not include any blank spaces in the string you assign to `xpath`."
   ]
  },
  {
   "cell_type": "raw",
   "metadata": {},
   "source": [
    "xpath = '/html/body/div[2]/p'"
   ]
  },
  {
   "cell_type": "markdown",
   "metadata": {},
   "source": [
    "# It's Time to P\n",
    "In the lecture, we learned how to use double forward-slashes to navigate to all future generations. In this exercise, you will select all paragraph `p` elements within the HTML. Because we want you to navigate to all paragraph elements, it is not important that you know what the HTML code is, since the task can be accomplished with a simple XPath string using the **double forward-slash** notation you have learned.\n",
    "## Instructions:\n",
    "- Using double forward-slash notation, assign to the variable xpath a simple XPath string navigating to all paragraph `p` elements within any HTML code."
   ]
  },
  {
   "cell_type": "raw",
   "metadata": {},
   "source": [
    "xpath = '//p'"
   ]
  },
  {
   "cell_type": "markdown",
   "metadata": {},
   "source": [
    "## A classy span\n",
    "Although we haven't yet gone deep into XPath, one thing we can do is select elements by their attributes using an XPath. For example, if we want to direct to the `div` element within the HTML document whose `id` attribute is `\"uid\"`, then we could write the XPath string `'//div[@id=\"uid\"]'`. The first part of this string, `//div`, first looks at all `div` elements in the HTML document. Then, using the brackets, we specify that we want only the `div` element with a specific `id` attribute (in this case `uid`). To note, the phrase `@id=\"uid\"` in the brackets would be read as \"attribute `id` equals `uid`\".\n",
    "\n",
    "In this exercise, you will select all `span` elements whose class attribute equals `\"span-class\"`. (Note: `span` is just another possible tag-name).\n",
    "## Instructions:\n",
    "- Assign to the variable `xpath` an XPath string which will select all `span` elements whose class attribute equals `\"span-class\"`. You do not need to see the actual HTML code to do this!"
   ]
  },
  {
   "cell_type": "raw",
   "metadata": {},
   "source": [
    "xpath = '//span[@class=\"span-class\"]'"
   ]
  }
 ],
 "metadata": {
  "kernelspec": {
   "display_name": "Python 3",
   "language": "python",
   "name": "python3"
  },
  "language_info": {
   "codemirror_mode": {
    "name": "ipython",
    "version": 3
   },
   "file_extension": ".py",
   "mimetype": "text/x-python",
   "name": "python",
   "nbconvert_exporter": "python",
   "pygments_lexer": "ipython3",
   "version": "3.6.7"
  }
 },
 "nbformat": 4,
 "nbformat_minor": 2
}
